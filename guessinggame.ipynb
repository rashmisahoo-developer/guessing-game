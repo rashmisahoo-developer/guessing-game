{
 "cells": [
  {
   "cell_type": "code",
   "execution_count": 1,
   "metadata": {},
   "outputs": [
    {
     "name": "stdin",
     "output_type": "stream",
     "text": [
      "Enter your  name:  rashmi\n"
     ]
    },
    {
     "name": "stdout",
     "output_type": "stream",
     "text": [
      "Welcome  Rashmi\n",
      "Try to guess the word(lowercase letters are allowed) in 10 attempts.\n",
      "All the best\n",
      "Guess the word  _ _ _ _ \n"
     ]
    },
    {
     "name": "stdin",
     "output_type": "stream",
     "text": [
      " y\n"
     ]
    },
    {
     "name": "stdout",
     "output_type": "stream",
     "text": [
      "9 turn left.\n",
      "------------\n",
      "Guess the word  _ _ _ _ \n"
     ]
    },
    {
     "name": "stdin",
     "output_type": "stream",
     "text": [
      " g\n"
     ]
    },
    {
     "name": "stdout",
     "output_type": "stream",
     "text": [
      "8 turn left\n",
      "------------\n",
      "      0     \n",
      "Guess the word  _ _ _ _ \n"
     ]
    },
    {
     "name": "stdin",
     "output_type": "stream",
     "text": [
      " f\n"
     ]
    },
    {
     "name": "stdout",
     "output_type": "stream",
     "text": [
      "7 turn left\n",
      "------------\n",
      "      0     \n",
      "      |     \n",
      "Guess the word  _ _ _ _ \n"
     ]
    },
    {
     "name": "stdin",
     "output_type": "stream",
     "text": [
      " a\n"
     ]
    },
    {
     "name": "stdout",
     "output_type": "stream",
     "text": [
      "6 turn left\n",
      "------------\n",
      "      0     \n",
      "      |     \n",
      "     /      \n",
      "Guess the word  _ _ _ _ \n"
     ]
    },
    {
     "name": "stdin",
     "output_type": "stream",
     "text": [
      " e\n"
     ]
    },
    {
     "name": "stdout",
     "output_type": "stream",
     "text": [
      "5 turn left\n",
      "------------\n",
      "      0     \n",
      "      |     \n",
      "     / \\    \n",
      "Guess the word  _ _ _ _ \n"
     ]
    },
    {
     "name": "stdin",
     "output_type": "stream",
     "text": [
      " i\n"
     ]
    },
    {
     "name": "stdout",
     "output_type": "stream",
     "text": [
      "Guess the word  _ _ i_ \n"
     ]
    },
    {
     "name": "stdin",
     "output_type": "stream",
     "text": [
      " o\n"
     ]
    },
    {
     "name": "stdout",
     "output_type": "stream",
     "text": [
      "Guess the word  _ oi_ \n"
     ]
    },
    {
     "name": "stdin",
     "output_type": "stream",
     "text": [
      " o\n"
     ]
    },
    {
     "name": "stdout",
     "output_type": "stream",
     "text": [
      "Guess the word  _ oi_ \n"
     ]
    },
    {
     "name": "stdin",
     "output_type": "stream",
     "text": [
      " u\n"
     ]
    },
    {
     "name": "stdout",
     "output_type": "stream",
     "text": [
      "4 turn left\n",
      "------------\n",
      "    \\ 0     \n",
      "      |     \n",
      "     / \\    \n",
      "Guess the word  _ oi_ \n"
     ]
    },
    {
     "name": "stdin",
     "output_type": "stream",
     "text": [
      " t\n"
     ]
    },
    {
     "name": "stdout",
     "output_type": "stream",
     "text": [
      "3 turn left\n",
      "------------\n",
      "    \\ 0 /   \n",
      "      |     \n",
      "     / \\    \n",
      "Guess the word  _ oi_ \n"
     ]
    },
    {
     "name": "stdin",
     "output_type": "stream",
     "text": [
      " u\n"
     ]
    },
    {
     "name": "stdout",
     "output_type": "stream",
     "text": [
      "2 turn left\n",
      "------------\n",
      "    \\ 0 /|  \n",
      "      |     \n",
      "     / \\    \n",
      "Guess the word  _ oi_ \n"
     ]
    },
    {
     "name": "stdin",
     "output_type": "stream",
     "text": [
      " r\n"
     ]
    },
    {
     "name": "stdout",
     "output_type": "stream",
     "text": [
      "1 turn left\n",
      "Last breaths counting,Take Care\n",
      "------------\n",
      "    \\ 0_|/  \n",
      "      |     \n",
      "     / \\    \n",
      "Guess the word  _ oi_ \n"
     ]
    },
    {
     "name": "stdin",
     "output_type": "stream",
     "text": [
      " e\n"
     ]
    },
    {
     "name": "stdout",
     "output_type": "stream",
     "text": [
      "You Lose!!\n",
      "You let a kind  man die.\n",
      "------------\n",
      "      0_|   \n",
      "     /|\\    \n",
      "     / \\    \n"
     ]
    }
   ],
   "source": [
    "import random\n",
    "def hangman():\n",
    "    word= random.choice([\"india\",\"china\",\"usa\",\"london\",\"europe\",\"canada\",\"water\",\"soil\",\"fire\",\"sky\",\"land\",\"earth\"])\n",
    "    validletters='abcdefghijklmnopqrstuvwxyz'\n",
    "    turn=10\n",
    "    guessmade=\"\"\n",
    "    \n",
    "    while len(word)>0:\n",
    "        main= \"\"\n",
    "        missed=0\n",
    "        for letter in word:\n",
    "            if letter in guessmade:\n",
    "                main=main+letter\n",
    "            else:\n",
    "                main=main+\"_\"+\" \"\n",
    "                \n",
    "        if main==word:\n",
    "            print(main)\n",
    "            print(\"Congratulation , you won.....\")\n",
    "            break\n",
    "            \n",
    "        print(\"Guess the word \",main)\n",
    "        guess=input()\n",
    "        \n",
    "        \n",
    "        if guess in validletters:\n",
    "            guessmade=guessmade+guess\n",
    "            \n",
    "        else:\n",
    "            print(\"Wrong input made . Enter valid one: \")\n",
    "            guess=input()\n",
    "            \n",
    "        if guess not in word:\n",
    "            turn=turn-1\n",
    "            if turn==9:\n",
    "                print(\"9 turn left.\")\n",
    "                print(\"------------\")\n",
    "            if turn==8:\n",
    "                print(\"8 turn left\")\n",
    "                print(\"------------\")\n",
    "                print(\"      0     \")\n",
    "            if turn==7:\n",
    "                print(\"7 turn left\")\n",
    "                print(\"------------\")\n",
    "                print(\"      0     \")\n",
    "                print(\"      |     \")\n",
    "            if turn==6:\n",
    "                print(\"6 turn left\")\n",
    "                print(\"------------\")\n",
    "                print(\"      0     \")\n",
    "                print(\"      |     \")   \n",
    "                print(\"     /      \")\n",
    "            if turn==5:\n",
    "                print(\"5 turn left\")\n",
    "                print(\"------------\")\n",
    "                print(\"      0     \")\n",
    "                print(\"      |     \")   \n",
    "                print(\"     / \\    \")\n",
    "            if turn==4:\n",
    "                print(\"4 turn left\")\n",
    "                print(\"------------\")\n",
    "                print(\"    \\ 0     \")\n",
    "                print(\"      |     \")   \n",
    "                print(\"     / \\    \")\n",
    "            if turn==3:\n",
    "                print(\"3 turn left\")\n",
    "                print(\"------------\")\n",
    "                print(\"    \\ 0 /   \")\n",
    "                print(\"      |     \")   \n",
    "                print(\"     / \\    \")\n",
    "            if turn==2:\n",
    "                print(\"2 turn left\")\n",
    "                print(\"------------\")\n",
    "                print(\"    \\ 0 /|  \")\n",
    "                print(\"      |     \")   \n",
    "                print(\"     / \\    \")\n",
    "            if turn==1:\n",
    "                print(\"1 turn left\")\n",
    "                print(\"Last breaths counting,Take Care\")\n",
    "                print(\"------------\")\n",
    "                print(\"    \\ 0_|/  \")\n",
    "                print(\"      |     \")   \n",
    "                print(\"     / \\    \")\n",
    "            if turn==0:\n",
    "                print(\"You Lose!!\")\n",
    "                print(\"You let a kind  man die.\")\n",
    "                print(\"------------\")\n",
    "                print(\"      0_|   \")\n",
    "                print(\"     /|\\    \")   \n",
    "                print(\"     / \\    \")\n",
    "                break\n",
    "name=input(\"Enter your  name: \")\n",
    "print(\"Welcome \",name.title())\n",
    "print(\"Try to guess the word(lowercase letters are allowed) in 10 attempts.\")\n",
    "print(\"All the best\")\n",
    "hangman()"
   ]
  },
  {
   "cell_type": "code",
   "execution_count": null,
   "metadata": {},
   "outputs": [],
   "source": []
  }
 ],
 "metadata": {
  "kernelspec": {
   "display_name": "Python 3",
   "language": "python",
   "name": "python3"
  },
  "language_info": {
   "codemirror_mode": {
    "name": "ipython",
    "version": 3
   },
   "file_extension": ".py",
   "mimetype": "text/x-python",
   "name": "python",
   "nbconvert_exporter": "python",
   "pygments_lexer": "ipython3",
   "version": "3.9.0"
  }
 },
 "nbformat": 4,
 "nbformat_minor": 4
}
